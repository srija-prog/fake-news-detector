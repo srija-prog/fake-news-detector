{
 "cells": [
  {
   "cell_type": "code",
   "execution_count": 26,
   "id": "6e4e2765",
   "metadata": {},
   "outputs": [
    {
     "name": "stdout",
     "output_type": "stream",
     "text": [
      "Requirement already satisfied: matplotlib in c:\\users\\64pul\\onedrive\\documents\\fake-news-detector\\env\\lib\\site-packages (3.10.7)\n",
      "Requirement already satisfied: contourpy>=1.0.1 in c:\\users\\64pul\\onedrive\\documents\\fake-news-detector\\env\\lib\\site-packages (from matplotlib) (1.3.3)\n",
      "Requirement already satisfied: cycler>=0.10 in c:\\users\\64pul\\onedrive\\documents\\fake-news-detector\\env\\lib\\site-packages (from matplotlib) (0.12.1)\n",
      "Requirement already satisfied: fonttools>=4.22.0 in c:\\users\\64pul\\onedrive\\documents\\fake-news-detector\\env\\lib\\site-packages (from matplotlib) (4.60.1)\n",
      "Requirement already satisfied: kiwisolver>=1.3.1 in c:\\users\\64pul\\onedrive\\documents\\fake-news-detector\\env\\lib\\site-packages (from matplotlib) (1.4.9)\n",
      "Requirement already satisfied: numpy>=1.23 in c:\\users\\64pul\\onedrive\\documents\\fake-news-detector\\env\\lib\\site-packages (from matplotlib) (2.3.4)\n",
      "Requirement already satisfied: packaging>=20.0 in c:\\users\\64pul\\onedrive\\documents\\fake-news-detector\\env\\lib\\site-packages (from matplotlib) (25.0)\n",
      "Requirement already satisfied: pillow>=8 in c:\\users\\64pul\\onedrive\\documents\\fake-news-detector\\env\\lib\\site-packages (from matplotlib) (11.3.0)\n",
      "Requirement already satisfied: pyparsing>=3 in c:\\users\\64pul\\onedrive\\documents\\fake-news-detector\\env\\lib\\site-packages (from matplotlib) (3.2.5)\n",
      "Requirement already satisfied: python-dateutil>=2.7 in c:\\users\\64pul\\onedrive\\documents\\fake-news-detector\\env\\lib\\site-packages (from matplotlib) (2.9.0.post0)\n",
      "Requirement already satisfied: six>=1.5 in c:\\users\\64pul\\onedrive\\documents\\fake-news-detector\\env\\lib\\site-packages (from python-dateutil>=2.7->matplotlib) (1.17.0)\n",
      "Note: you may need to restart the kernel to use updated packages.\n"
     ]
    }
   ],
   "source": [
    "%pip install matplotlib"
   ]
  },
  {
   "cell_type": "code",
   "execution_count": 27,
   "id": "b3922c3f",
   "metadata": {},
   "outputs": [
    {
     "name": "stdout",
     "output_type": "stream",
     "text": [
      "Collecting seaborn\n",
      "  Using cached seaborn-0.13.2-py3-none-any.whl.metadata (5.4 kB)\n",
      "Requirement already satisfied: numpy!=1.24.0,>=1.20 in c:\\users\\64pul\\onedrive\\documents\\fake-news-detector\\env\\lib\\site-packages (from seaborn) (2.3.4)\n",
      "Requirement already satisfied: pandas>=1.2 in c:\\users\\64pul\\onedrive\\documents\\fake-news-detector\\env\\lib\\site-packages (from seaborn) (2.3.3)\n",
      "Requirement already satisfied: matplotlib!=3.6.1,>=3.4 in c:\\users\\64pul\\onedrive\\documents\\fake-news-detector\\env\\lib\\site-packages (from seaborn) (3.10.7)\n",
      "Requirement already satisfied: contourpy>=1.0.1 in c:\\users\\64pul\\onedrive\\documents\\fake-news-detector\\env\\lib\\site-packages (from matplotlib!=3.6.1,>=3.4->seaborn) (1.3.3)\n",
      "Requirement already satisfied: cycler>=0.10 in c:\\users\\64pul\\onedrive\\documents\\fake-news-detector\\env\\lib\\site-packages (from matplotlib!=3.6.1,>=3.4->seaborn) (0.12.1)\n",
      "Requirement already satisfied: fonttools>=4.22.0 in c:\\users\\64pul\\onedrive\\documents\\fake-news-detector\\env\\lib\\site-packages (from matplotlib!=3.6.1,>=3.4->seaborn) (4.60.1)\n",
      "Requirement already satisfied: kiwisolver>=1.3.1 in c:\\users\\64pul\\onedrive\\documents\\fake-news-detector\\env\\lib\\site-packages (from matplotlib!=3.6.1,>=3.4->seaborn) (1.4.9)\n",
      "Requirement already satisfied: packaging>=20.0 in c:\\users\\64pul\\onedrive\\documents\\fake-news-detector\\env\\lib\\site-packages (from matplotlib!=3.6.1,>=3.4->seaborn) (25.0)\n",
      "Requirement already satisfied: pillow>=8 in c:\\users\\64pul\\onedrive\\documents\\fake-news-detector\\env\\lib\\site-packages (from matplotlib!=3.6.1,>=3.4->seaborn) (11.3.0)\n",
      "Requirement already satisfied: pyparsing>=3 in c:\\users\\64pul\\onedrive\\documents\\fake-news-detector\\env\\lib\\site-packages (from matplotlib!=3.6.1,>=3.4->seaborn) (3.2.5)\n",
      "Requirement already satisfied: python-dateutil>=2.7 in c:\\users\\64pul\\onedrive\\documents\\fake-news-detector\\env\\lib\\site-packages (from matplotlib!=3.6.1,>=3.4->seaborn) (2.9.0.post0)\n",
      "Requirement already satisfied: pytz>=2020.1 in c:\\users\\64pul\\onedrive\\documents\\fake-news-detector\\env\\lib\\site-packages (from pandas>=1.2->seaborn) (2025.2)\n",
      "Requirement already satisfied: tzdata>=2022.7 in c:\\users\\64pul\\onedrive\\documents\\fake-news-detector\\env\\lib\\site-packages (from pandas>=1.2->seaborn) (2025.2)\n",
      "Requirement already satisfied: six>=1.5 in c:\\users\\64pul\\onedrive\\documents\\fake-news-detector\\env\\lib\\site-packages (from python-dateutil>=2.7->matplotlib!=3.6.1,>=3.4->seaborn) (1.17.0)\n",
      "Using cached seaborn-0.13.2-py3-none-any.whl (294 kB)\n",
      "Installing collected packages: seaborn\n",
      "Successfully installed seaborn-0.13.2\n",
      "Note: you may need to restart the kernel to use updated packages.\n"
     ]
    }
   ],
   "source": [
    "%pip install seaborn"
   ]
  },
  {
   "cell_type": "code",
   "execution_count": 28,
   "id": "9e57a601",
   "metadata": {},
   "outputs": [],
   "source": [
    "import pandas as pd\n",
    "from sklearn.model_selection import train_test_split\n",
    "from sklearn.feature_extraction.text import TfidfVectorizer\n",
    "from sklearn.linear_model import LogisticRegression\n",
    "from sklearn.metrics import accuracy_score, classification_report,confusion_matrix\n",
    "import nltk\n",
    "import string\n",
    "from nltk.corpus import stopwords\n",
    "import matplotlib.pyplot as plt\n",
    "import seaborn as sns\n",
    " \n"
   ]
  },
  {
   "cell_type": "code",
   "execution_count": 6,
   "id": "8e29f20e",
   "metadata": {},
   "outputs": [
    {
     "name": "stderr",
     "output_type": "stream",
     "text": [
      "[nltk_data] Downloading package stopwords to\n",
      "[nltk_data]     C:\\Users\\64pul\\AppData\\Roaming\\nltk_data...\n",
      "[nltk_data]   Package stopwords is already up-to-date!\n"
     ]
    },
    {
     "data": {
      "text/html": [
       "<div>\n",
       "<style scoped>\n",
       "    .dataframe tbody tr th:only-of-type {\n",
       "        vertical-align: middle;\n",
       "    }\n",
       "\n",
       "    .dataframe tbody tr th {\n",
       "        vertical-align: top;\n",
       "    }\n",
       "\n",
       "    .dataframe thead th {\n",
       "        text-align: right;\n",
       "    }\n",
       "</style>\n",
       "<table border=\"1\" class=\"dataframe\">\n",
       "  <thead>\n",
       "    <tr style=\"text-align: right;\">\n",
       "      <th></th>\n",
       "      <th>title</th>\n",
       "      <th>text</th>\n",
       "      <th>subject</th>\n",
       "      <th>date</th>\n",
       "    </tr>\n",
       "  </thead>\n",
       "  <tbody>\n",
       "    <tr>\n",
       "      <th>0</th>\n",
       "      <td>As U.S. budget fight looms, Republicans flip t...</td>\n",
       "      <td>WASHINGTON (Reuters) - The head of a conservat...</td>\n",
       "      <td>politicsNews</td>\n",
       "      <td>December 31, 2017</td>\n",
       "    </tr>\n",
       "    <tr>\n",
       "      <th>1</th>\n",
       "      <td>U.S. military to accept transgender recruits o...</td>\n",
       "      <td>WASHINGTON (Reuters) - Transgender people will...</td>\n",
       "      <td>politicsNews</td>\n",
       "      <td>December 29, 2017</td>\n",
       "    </tr>\n",
       "    <tr>\n",
       "      <th>2</th>\n",
       "      <td>Senior U.S. Republican senator: 'Let Mr. Muell...</td>\n",
       "      <td>WASHINGTON (Reuters) - The special counsel inv...</td>\n",
       "      <td>politicsNews</td>\n",
       "      <td>December 31, 2017</td>\n",
       "    </tr>\n",
       "    <tr>\n",
       "      <th>3</th>\n",
       "      <td>FBI Russia probe helped by Australian diplomat...</td>\n",
       "      <td>WASHINGTON (Reuters) - Trump campaign adviser ...</td>\n",
       "      <td>politicsNews</td>\n",
       "      <td>December 30, 2017</td>\n",
       "    </tr>\n",
       "    <tr>\n",
       "      <th>4</th>\n",
       "      <td>Trump wants Postal Service to charge 'much mor...</td>\n",
       "      <td>SEATTLE/WASHINGTON (Reuters) - President Donal...</td>\n",
       "      <td>politicsNews</td>\n",
       "      <td>December 29, 2017</td>\n",
       "    </tr>\n",
       "  </tbody>\n",
       "</table>\n",
       "</div>"
      ],
      "text/plain": [
       "                                               title  \\\n",
       "0  As U.S. budget fight looms, Republicans flip t...   \n",
       "1  U.S. military to accept transgender recruits o...   \n",
       "2  Senior U.S. Republican senator: 'Let Mr. Muell...   \n",
       "3  FBI Russia probe helped by Australian diplomat...   \n",
       "4  Trump wants Postal Service to charge 'much mor...   \n",
       "\n",
       "                                                text       subject  \\\n",
       "0  WASHINGTON (Reuters) - The head of a conservat...  politicsNews   \n",
       "1  WASHINGTON (Reuters) - Transgender people will...  politicsNews   \n",
       "2  WASHINGTON (Reuters) - The special counsel inv...  politicsNews   \n",
       "3  WASHINGTON (Reuters) - Trump campaign adviser ...  politicsNews   \n",
       "4  SEATTLE/WASHINGTON (Reuters) - President Donal...  politicsNews   \n",
       "\n",
       "                 date  \n",
       "0  December 31, 2017   \n",
       "1  December 29, 2017   \n",
       "2  December 31, 2017   \n",
       "3  December 30, 2017   \n",
       "4  December 29, 2017   "
      ]
     },
     "execution_count": 6,
     "metadata": {},
     "output_type": "execute_result"
    }
   ],
   "source": [
    "nltk.download('stopwords')\n",
    "#download the stopwords\n",
    "\n",
    "real = pd.read_csv('data/True.csv')\n",
    "fake = pd.read_csv('data/Fake.csv')\n",
    "real.head()"
   ]
  },
  {
   "cell_type": "code",
   "execution_count": 7,
   "id": "dc9bbcbe",
   "metadata": {},
   "outputs": [],
   "source": [
    "fake['label'] = 0\n",
    "real['label']=1"
   ]
  },
  {
   "cell_type": "code",
   "execution_count": 15,
   "id": "36a70165",
   "metadata": {},
   "outputs": [],
   "source": [
    "#combining the datasets\n",
    "data = pd.concat([fake, real], ignore_index=True)\n",
    "\n",
    "#keep only text and label columns remove the rest\n",
    "data = data[['text', 'label']]\n",
    "\n",
    "#reshuffle the dataset\n",
    "data = data.sample(frac=1, random_state=42)\n",
    "\n",
    "#preproccesing\n",
    "def preprocess(text):\n",
    "  text = text.lower()\n",
    "  text = ''.join([c for c in text if c not in string.punctuation])\n",
    "  stop_words = stopwords.words('english')\n",
    "  text = ''.join([word for word in text.split() if word not in string.punctuation])\n",
    "  return text\n",
    "\n",
    "\n",
    "#applying the preprocessing\n",
    "data['text'] = data['text'].apply(preprocess)\n",
    "\n",
    "#spliting the dataset into testing and training data\n",
    "X_train, X_test, y_train, y_test = train_test_split(data['text'], data['label'], test_size=0.2, random_state=42)"
   ]
  },
  {
   "cell_type": "code",
   "execution_count": 16,
   "id": "32949a51",
   "metadata": {},
   "outputs": [],
   "source": [
    "#converting the text features to numerical features\n",
    "# using tf-dif\n",
    "tfidf = TfidfVectorizer(max_features=5000)\n",
    "X_train_tfidf = tfidf.fit_transform(X_train)\n",
    "X_test_tfidf = tfidf.transform(X_test) \n",
    "#all into numerical data has been converted"
   ]
  },
  {
   "cell_type": "code",
   "execution_count": 19,
   "id": "7aed3055",
   "metadata": {},
   "outputs": [
    {
     "name": "stdout",
     "output_type": "stream",
     "text": [
      "ACCURACY:  0.6726057906458798\n",
      "classfication report: \n",
      "               precision    recall  f1-score   support\n",
      "\n",
      "           0       0.62      1.00      0.76      4710\n",
      "           1       1.00      0.31      0.47      4270\n",
      "\n",
      "    accuracy                           0.67      8980\n",
      "   macro avg       0.81      0.66      0.62      8980\n",
      "weighted avg       0.80      0.67      0.63      8980\n",
      "\n"
     ]
    }
   ],
   "source": [
    "#training the logistic regression model\n",
    "model = LogisticRegression()\n",
    "model.fit(X_train_tfidf, y_train)\n",
    "\n",
    "#evaluate model on the test set\n",
    "y_pred = model.predict(X_test_tfidf)\n",
    "print(\"ACCURACY: \", accuracy_score(y_test, y_pred))\n",
    "\n",
    "print(\"classfication report: \\n\", classification_report(y_test, y_pred))\n"
   ]
  },
  {
   "cell_type": "code",
   "execution_count": 21,
   "id": "059087f4",
   "metadata": {},
   "outputs": [],
   "source": [
    "import pickle\n",
    "\n",
    "with open('tfidf_vectorizer.pkl', 'wb') as f:\n",
    "    pickle.dump(tfidf, f)\n",
    "\n",
    "with open('fake_news_model.pkl', 'wb') as f:\n",
    "    pickle.dump(model, f)"
   ]
  },
  {
   "cell_type": "code",
   "execution_count": 30,
   "id": "f46e633c",
   "metadata": {},
   "outputs": [],
   "source": [
    "#confusion matrix\n",
    "cm = confusion_matrix(y_test, y_pred)\n",
    "plt.figure(figsize=(6,4))\n",
    "sns.heatmap(cm, annot=True, fmt='d', cmap= 'Blues')\n",
    "plt.title('confusion matrix')\n",
    "plt.xlabel('predicted')\n",
    "plt.ylabel('actual')\n",
    "plt.savefig('confusion_matrix_for_fakeNews.png')\n",
    "plt.close()\n"
   ]
  },
  {
   "cell_type": "code",
   "execution_count": 31,
   "id": "05a3145f",
   "metadata": {},
   "outputs": [
    {
     "name": "stdout",
     "output_type": "stream",
     "text": [
      "Collecting wordCloud\n",
      "  Using cached wordcloud-1.9.4-cp313-cp313-win_amd64.whl.metadata (3.5 kB)\n",
      "Requirement already satisfied: numpy>=1.6.1 in c:\\users\\64pul\\onedrive\\documents\\fake-news-detector\\env\\lib\\site-packages (from wordCloud) (2.3.4)\n",
      "Requirement already satisfied: pillow in c:\\users\\64pul\\onedrive\\documents\\fake-news-detector\\env\\lib\\site-packages (from wordCloud) (11.3.0)\n",
      "Requirement already satisfied: matplotlib in c:\\users\\64pul\\onedrive\\documents\\fake-news-detector\\env\\lib\\site-packages (from wordCloud) (3.10.7)\n",
      "Requirement already satisfied: contourpy>=1.0.1 in c:\\users\\64pul\\onedrive\\documents\\fake-news-detector\\env\\lib\\site-packages (from matplotlib->wordCloud) (1.3.3)\n",
      "Requirement already satisfied: cycler>=0.10 in c:\\users\\64pul\\onedrive\\documents\\fake-news-detector\\env\\lib\\site-packages (from matplotlib->wordCloud) (0.12.1)\n",
      "Requirement already satisfied: fonttools>=4.22.0 in c:\\users\\64pul\\onedrive\\documents\\fake-news-detector\\env\\lib\\site-packages (from matplotlib->wordCloud) (4.60.1)\n",
      "Requirement already satisfied: kiwisolver>=1.3.1 in c:\\users\\64pul\\onedrive\\documents\\fake-news-detector\\env\\lib\\site-packages (from matplotlib->wordCloud) (1.4.9)\n",
      "Requirement already satisfied: packaging>=20.0 in c:\\users\\64pul\\onedrive\\documents\\fake-news-detector\\env\\lib\\site-packages (from matplotlib->wordCloud) (25.0)\n",
      "Requirement already satisfied: pyparsing>=3 in c:\\users\\64pul\\onedrive\\documents\\fake-news-detector\\env\\lib\\site-packages (from matplotlib->wordCloud) (3.2.5)\n",
      "Requirement already satisfied: python-dateutil>=2.7 in c:\\users\\64pul\\onedrive\\documents\\fake-news-detector\\env\\lib\\site-packages (from matplotlib->wordCloud) (2.9.0.post0)\n",
      "Requirement already satisfied: six>=1.5 in c:\\users\\64pul\\onedrive\\documents\\fake-news-detector\\env\\lib\\site-packages (from python-dateutil>=2.7->matplotlib->wordCloud) (1.17.0)\n",
      "Using cached wordcloud-1.9.4-cp313-cp313-win_amd64.whl (300 kB)\n",
      "Installing collected packages: wordCloud\n",
      "Successfully installed wordCloud-1.9.4\n",
      "Note: you may need to restart the kernel to use updated packages.\n"
     ]
    }
   ],
   "source": [
    "%pip install wordCloud"
   ]
  },
  {
   "cell_type": "code",
   "execution_count": 32,
   "id": "0c11322a",
   "metadata": {},
   "outputs": [],
   "source": [
    "from wordcloud import WordCloud"
   ]
  },
  {
   "cell_type": "code",
   "execution_count": 34,
   "id": "18542ead",
   "metadata": {},
   "outputs": [
    {
     "data": {
      "text/plain": [
       "<wordcloud.wordcloud.WordCloud at 0x28f758b9810>"
      ]
     },
     "execution_count": 34,
     "metadata": {},
     "output_type": "execute_result"
    }
   ],
   "source": [
    "fakeWords = ' '.join(fake['text'].tolist())\n",
    "realWords = ' '.join(real['text'].tolist())\n",
    "\n",
    "wc_fake = WordCloud(width=800, height=400, background_color='white').generate(fakeWords)\n",
    "wc_real = WordCloud(width=800, height=400, background_color='white').generate(realWords)\n",
    "\n",
    "wc_fake.to_file('wordcloud_fake.png')\n",
    "wc_real.to_file('wordcloud_real.png')"
   ]
  }
 ],
 "metadata": {
  "kernelspec": {
   "display_name": "env",
   "language": "python",
   "name": "python3"
  },
  "language_info": {
   "codemirror_mode": {
    "name": "ipython",
    "version": 3
   },
   "file_extension": ".py",
   "mimetype": "text/x-python",
   "name": "python",
   "nbconvert_exporter": "python",
   "pygments_lexer": "ipython3",
   "version": "3.13.6"
  }
 },
 "nbformat": 4,
 "nbformat_minor": 5
}
